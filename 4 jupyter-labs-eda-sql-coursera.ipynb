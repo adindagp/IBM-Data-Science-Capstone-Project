{
    "cells": [
        {
            "metadata": {},
            "cell_type": "markdown",
            "source": "<center>\n    <img src=\"https://gitlab.com/ibm/skills-network/courses/placeholder101/-/raw/master/labs/module%201/images/IDSNlogo.png\"  width=\"300\" alt=\"cognitiveclass.ai logo\"  />\n</center>\n\n<h1 align=center><font size = 5>Assignment: SQL Notebook for Peer Assignment</font></h1>\n\nEstimated time needed: **60** minutes.\n\n## Introduction\n\nUsing this Python notebook you will:\n\n1.  Understand the Spacex DataSet\n2.  Load the dataset  into the corresponding table in a Db2 database\n3.  Execute SQL queries to answer assignment questions\n"
        },
        {
            "metadata": {},
            "cell_type": "markdown",
            "source": "## Overview of the DataSet\n\nSpaceX has gained worldwide attention for a series of historic milestones.\n\nIt is the only private company ever to return a spacecraft from low-earth orbit, which it first accomplished in December 2010.\nSpaceX advertises Falcon 9 rocket launches on its website with a cost of 62 million dollars wheras other providers cost upward of 165 million dollars each, much of the savings is because Space X can reuse the first stage.\n\nTherefore if we can determine if the first stage will land, we can determine the cost of a launch.\n\nThis information can be used if an alternate company wants to bid against SpaceX for a rocket launch.\n\nThis dataset includes a record for each payload carried during a SpaceX mission into outer space.\n"
        },
        {
            "metadata": {},
            "cell_type": "markdown",
            "source": "### Download the datasets\n\nThis assignment requires you to load the spacex dataset.\n\nIn many cases the dataset to be analyzed is available as a .CSV (comma separated values) file, perhaps on the internet. Click on the link below to download and save the dataset (.CSV file):\n\n<a href=\"https://cf-courses-data.s3.us.cloud-object-storage.appdomain.cloud/IBM-DS0321EN-SkillsNetwork/labs/module_2/data/Spacex.csv?utm_medium=Exinfluencer&utm_source=Exinfluencer&utm_content=000026UJ&utm_term=10006555&utm_id=NA-SkillsNetwork-Channel-SkillsNetworkCoursesIBMDS0321ENSkillsNetwork26802033-2021-01-01\" target=\"_blank\">Spacex DataSet</a>\n"
        },
        {
            "metadata": {},
            "cell_type": "markdown",
            "source": "### Store the dataset in database table\n\n**it is highly recommended to manually load the table using the database console LOAD tool in DB2**.\n\n<img src = \"https://cf-courses-data.s3.us.cloud-object-storage.appdomain.cloud/IBM-DS0321EN-SkillsNetwork/labs/module_2/images/spacexload.png\">\n\nNow open the Db2 console, open the LOAD tool, Select / Drag the .CSV file for the  dataset, Next create a New Table, and then follow the steps on-screen instructions to load the data. Name the new table as follows:\n\n**SPACEXDATASET**\n\n**Follow these steps while using old DB2 UI which is having Open Console Screen**\n\n**Note:While loading Spacex dataset, ensure that detect datatypes is disabled. Later click on the pencil icon(edit option).**\n\n1.  Change the Date Format by manually typing DD-MM-YYYY and timestamp format as DD-MM-YYYY HH\\:MM:SS.\n\n    Here you should place the cursor at Date field and manually type as DD-MM-YYYY.\n\n2.  Change the PAYLOAD_MASS\\_\\_KG\\_  datatype  to INTEGER.\n\n<img src = \"https://cf-courses-data.s3.us.cloud-object-storage.appdomain.cloud/IBM-DS0321EN-SkillsNetwork/labs/module_2/images/spacexload2.png\">\n"
        },
        {
            "metadata": {},
            "cell_type": "markdown",
            "source": "**Changes to be considered when having DB2 instance with the new UI having Go to UI screen**\n\n*   Refer to this insruction in this <a href=\"https://cf-courses-data.s3.us.cloud-object-storage.appdomain.cloud/IBMDeveloperSkillsNetwork-DB0201EN-SkillsNetwork/labs/Labs_Coursera_V5/labs/Lab%20-%20Sign%20up%20for%20IBM%20Cloud%20-%20Create%20Db2%20service%20instance%20-%20Get%20started%20with%20the%20Db2%20console/instructional-labs.md.html?utm_medium=Exinfluencer&utm_source=Exinfluencer&utm_content=000026UJ&utm_term=10006555&utm_id=NA-SkillsNetwork-Channel-SkillsNetworkCoursesIBMDS0321ENSkillsNetwork26802033-2021-01-01\">link</a> for viewing  the new  Go to UI screen.\n\n*   Later click on **Data link(below SQL)**  in the Go to UI screen  and click on **Load Data** tab.\n\n*   Later browse for the downloaded spacex file.\n\n<img src=\"https://cf-courses-data.s3.us.cloud-object-storage.appdomain.cloud/IBM-DS0321EN-SkillsNetwork/labs/module_2/images/browsefile.png\" width=\"800\"/>\n\n*   Once done select the schema andload the file.\n\n <img src=\"https://cf-courses-data.s3.us.cloud-object-storage.appdomain.cloud/IBM-DS0321EN-SkillsNetwork/labs/module_2/images/spacexload3.png\" width=\"800\"/>\n"
        },
        {
            "metadata": {},
            "cell_type": "code",
            "source": "!pip install sqlalchemy==1.3.9\n!pip install ibm_db_sa\n!pip install ipython-sql",
            "execution_count": 1,
            "outputs": [
                {
                    "output_type": "stream",
                    "text": "Collecting sqlalchemy==1.3.9\n  Downloading SQLAlchemy-1.3.9.tar.gz (6.0 MB)\n\u001b[K     |\u2588\u2588\u2588\u2588\u2588\u2588\u2588\u2588\u2588\u2588\u2588\u2588\u2588\u2588\u2588\u2588\u2588\u2588\u2588\u2588\u2588\u2588\u2588\u2588\u2588\u2588\u2588\u2588\u2588\u2588\u2588\u2588| 6.0 MB 19.0 MB/s eta 0:00:01\n\u001b[?25hBuilding wheels for collected packages: sqlalchemy\n  Building wheel for sqlalchemy (setup.py) ... \u001b[?25ldone\n\u001b[?25h  Created wheel for sqlalchemy: filename=SQLAlchemy-1.3.9-cp38-cp38-linux_x86_64.whl size=1209508 sha256=07da75611a388d35c0a3c5514cac3de1b9817fa655ae527c91040872e180fc35\n  Stored in directory: /tmp/wsuser/.cache/pip/wheels/cb/43/46/fa638f2422554332b7865d600275b24568bf60e76104a94bb4\nSuccessfully built sqlalchemy\nInstalling collected packages: sqlalchemy\n  Attempting uninstall: sqlalchemy\n    Found existing installation: SQLAlchemy 1.4.22\n    Uninstalling SQLAlchemy-1.4.22:\n      Successfully uninstalled SQLAlchemy-1.4.22\nSuccessfully installed sqlalchemy-1.3.9\nRequirement already satisfied: ibm_db_sa in /opt/conda/envs/Python-3.8-main/lib/python3.8/site-packages (0.3.7)\nRequirement already satisfied: ibm-db>=2.0.0 in /opt/conda/envs/Python-3.8-main/lib/python3.8/site-packages (from ibm_db_sa) (3.0.4)\nRequirement already satisfied: sqlalchemy>=0.7.3 in /opt/conda/envs/Python-3.8-main/lib/python3.8/site-packages (from ibm_db_sa) (1.3.9)\nCollecting ipython-sql\n  Downloading ipython_sql-0.4.0-py3-none-any.whl (19 kB)\nRequirement already satisfied: sqlalchemy>=0.6.7 in /opt/conda/envs/Python-3.8-main/lib/python3.8/site-packages (from ipython-sql) (1.3.9)\nRequirement already satisfied: six in /opt/conda/envs/Python-3.8-main/lib/python3.8/site-packages (from ipython-sql) (1.15.0)\nCollecting sqlparse\n  Downloading sqlparse-0.4.2-py3-none-any.whl (42 kB)\n\u001b[K     |\u2588\u2588\u2588\u2588\u2588\u2588\u2588\u2588\u2588\u2588\u2588\u2588\u2588\u2588\u2588\u2588\u2588\u2588\u2588\u2588\u2588\u2588\u2588\u2588\u2588\u2588\u2588\u2588\u2588\u2588\u2588\u2588| 42 kB 1.9 MB/s  eta 0:00:01\n\u001b[?25hRequirement already satisfied: ipython>=1.0 in /opt/conda/envs/Python-3.8-main/lib/python3.8/site-packages (from ipython-sql) (7.27.0)\nRequirement already satisfied: ipython-genutils>=0.1.0 in /opt/conda/envs/Python-3.8-main/lib/python3.8/site-packages (from ipython-sql) (0.2.0)\nCollecting prettytable<1\n  Downloading prettytable-0.7.2.zip (28 kB)\nRequirement already satisfied: decorator in /opt/conda/envs/Python-3.8-main/lib/python3.8/site-packages (from ipython>=1.0->ipython-sql) (5.0.9)\nRequirement already satisfied: pexpect>4.3 in /opt/conda/envs/Python-3.8-main/lib/python3.8/site-packages (from ipython>=1.0->ipython-sql) (4.8.0)\nRequirement already satisfied: backcall in /opt/conda/envs/Python-3.8-main/lib/python3.8/site-packages (from ipython>=1.0->ipython-sql) (0.2.0)\nRequirement already satisfied: setuptools>=18.5 in /opt/conda/envs/Python-3.8-main/lib/python3.8/site-packages (from ipython>=1.0->ipython-sql) (52.0.0.post20211006)\nRequirement already satisfied: prompt-toolkit!=3.0.0,!=3.0.1,<3.1.0,>=2.0.0 in /opt/conda/envs/Python-3.8-main/lib/python3.8/site-packages (from ipython>=1.0->ipython-sql) (3.0.20)\nRequirement already satisfied: pygments in /opt/conda/envs/Python-3.8-main/lib/python3.8/site-packages (from ipython>=1.0->ipython-sql) (2.9.0)\nRequirement already satisfied: traitlets>=4.2 in /opt/conda/envs/Python-3.8-main/lib/python3.8/site-packages (from ipython>=1.0->ipython-sql) (5.0.5)\nRequirement already satisfied: pickleshare in /opt/conda/envs/Python-3.8-main/lib/python3.8/site-packages (from ipython>=1.0->ipython-sql) (0.7.5)\nRequirement already satisfied: matplotlib-inline in /opt/conda/envs/Python-3.8-main/lib/python3.8/site-packages (from ipython>=1.0->ipython-sql) (0.1.2)\nRequirement already satisfied: jedi>=0.16 in /opt/conda/envs/Python-3.8-main/lib/python3.8/site-packages (from ipython>=1.0->ipython-sql) (0.17.2)\nRequirement already satisfied: parso<0.8.0,>=0.7.0 in /opt/conda/envs/Python-3.8-main/lib/python3.8/site-packages (from jedi>=0.16->ipython>=1.0->ipython-sql) (0.7.0)\nRequirement already satisfied: ptyprocess>=0.5 in /opt/conda/envs/Python-3.8-main/lib/python3.8/site-packages (from pexpect>4.3->ipython>=1.0->ipython-sql) (0.7.0)\nRequirement already satisfied: wcwidth in /opt/conda/envs/Python-3.8-main/lib/python3.8/site-packages (from prompt-toolkit!=3.0.0,!=3.0.1,<3.1.0,>=2.0.0->ipython>=1.0->ipython-sql) (0.2.5)\nBuilding wheels for collected packages: prettytable\n  Building wheel for prettytable (setup.py) ... \u001b[?25ldone\n\u001b[?25h  Created wheel for prettytable: filename=prettytable-0.7.2-py3-none-any.whl size=13700 sha256=865d21089221a2e6647203fb99bd251ffa00107ab84cc2f293fc4ead2f12f400\n  Stored in directory: /tmp/wsuser/.cache/pip/wheels/48/6d/77/9517cb933af254f51a446f1a5ec9c2be3e45f17384940bce68\nSuccessfully built prettytable\nInstalling collected packages: sqlparse, prettytable, ipython-sql\nSuccessfully installed ipython-sql-0.4.0 prettytable-0.7.2 sqlparse-0.4.2\n",
                    "name": "stdout"
                }
            ]
        },
        {
            "metadata": {},
            "cell_type": "markdown",
            "source": "### Connect to the database\n\nLet us first load the SQL extension and establish a connection with the database\n"
        },
        {
            "metadata": {},
            "cell_type": "code",
            "source": "%load_ext sql",
            "execution_count": 2,
            "outputs": []
        },
        {
            "metadata": {},
            "cell_type": "markdown",
            "source": "**DB2 magic in case of old UI service credentials.**\n\nIn the next cell enter your db2 connection string. Recall you created Service Credentials for your Db2 instance before. From the **uri** field of your Db2 service credentials copy everything after db2:// (except the double quote at the end) and paste it in the cell below after ibm_db_sa://\n\n<img src =\"https://cf-courses-data.s3.us.cloud-object-storage.appdomain.cloud/IBMDeveloperSkillsNetwork-DB0201EN-SkillsNetwork/labs/FinalModule_edX/images/URI.jpg\">\n\nin the following format\n\n**%sql ibm_db_sa://my-username:my-password\\@my-hostname:my-port/my-db-name**\n\n**DB2 magic in case of new UI service credentials.**\n\n<img src =\"https://cf-courses-data.s3.us.cloud-object-storage.appdomain.cloud/IBM-DS0321EN-SkillsNetwork/labs/module_2/images/servicecredentials.png\" width=600>  \n\n*   Use the following format.\n\n*   Add security=SSL at the end\n\n**%sql ibm_db_sa://my-username:my-password\\@my-hostname:my-port/my-db-name?security=SSL**\n"
        },
        {
            "metadata": {},
            "cell_type": "code",
            "source": "",
            "execution_count": null,
            "outputs": []
        },
        {
            "metadata": {},
            "cell_type": "code",
            "source": "",
            "execution_count": null,
            "outputs": []
        },
        {
            "metadata": {},
            "cell_type": "code",
            "source": "%sql ibm_db_sa://svp38427:aF7zMIwTqktDw82W@125f9f61-9715-46f9-9399-c8177b21803b.c1ogj3sd0tgtu0lqde00.databases.appdomain.cloud:30426/bludb?security=SSL",
            "execution_count": 6,
            "outputs": []
        },
        {
            "metadata": {},
            "cell_type": "markdown",
            "source": "## Tasks\n\nNow write and execute SQL queries to solve the assignment tasks.\n\n### Task 1\n\n##### Display the names of the unique launch sites  in the space mission\n"
        },
        {
            "metadata": {},
            "cell_type": "code",
            "source": "%sql SELECT DISTINCT launch_site FROM SPACEXTBL;",
            "execution_count": 9,
            "outputs": [
                {
                    "output_type": "stream",
                    "text": " * ibm_db_sa://svp38427:***@125f9f61-9715-46f9-9399-c8177b21803b.c1ogj3sd0tgtu0lqde00.databases.appdomain.cloud:30426/bludb\nDone.\n",
                    "name": "stdout"
                },
                {
                    "output_type": "execute_result",
                    "execution_count": 9,
                    "data": {
                        "text/plain": "[('CCAFS LC-40',), ('CCAFS SLC-40',), ('KSC LC-39A',), ('VAFB SLC-4E',)]",
                        "text/html": "<table>\n    <tr>\n        <th>launch_site</th>\n    </tr>\n    <tr>\n        <td>CCAFS LC-40</td>\n    </tr>\n    <tr>\n        <td>CCAFS SLC-40</td>\n    </tr>\n    <tr>\n        <td>KSC LC-39A</td>\n    </tr>\n    <tr>\n        <td>VAFB SLC-4E</td>\n    </tr>\n</table>"
                    },
                    "metadata": {}
                }
            ]
        },
        {
            "metadata": {},
            "cell_type": "markdown",
            "source": "### Task 2\n\n##### Display 5 records where launch sites begin with the string 'CCA'\n"
        },
        {
            "metadata": {},
            "cell_type": "code",
            "source": "%sql SELECT * FROM SPACEXTBL WHERE launch_site LIKE '%CCA%' LIMIT 5;",
            "execution_count": 17,
            "outputs": [
                {
                    "output_type": "stream",
                    "text": " * ibm_db_sa://svp38427:***@125f9f61-9715-46f9-9399-c8177b21803b.c1ogj3sd0tgtu0lqde00.databases.appdomain.cloud:30426/bludb\nDone.\n",
                    "name": "stdout"
                },
                {
                    "output_type": "execute_result",
                    "execution_count": 17,
                    "data": {
                        "text/plain": "[(datetime.date(2010, 4, 6), datetime.time(18, 45), 'F9 v1.0  B0003', 'CCAFS LC-40', 'Dragon Spacecraft Qualification Unit', 0, 'LEO', 'SpaceX', 'Success', 'Failure (parachute)'),\n (datetime.date(2010, 8, 12), datetime.time(15, 43), 'F9 v1.0  B0004', 'CCAFS LC-40', 'Dragon demo flight C1, two CubeSats, barrel of Brouere cheese', 0, 'LEO (ISS)', 'NASA (COTS) NRO', 'Success', 'Failure (parachute)'),\n (datetime.date(2012, 5, 22), datetime.time(7, 44), 'F9 v1.0  B0005', 'CCAFS LC-40', 'Dragon demo flight C2', 525, 'LEO (ISS)', 'NASA (COTS)', 'Success', 'No attempt'),\n (datetime.date(2012, 8, 10), datetime.time(0, 35), 'F9 v1.0  B0006', 'CCAFS LC-40', 'SpaceX CRS-1', 500, 'LEO (ISS)', 'NASA (CRS)', 'Success', 'No attempt'),\n (datetime.date(2013, 1, 3), datetime.time(15, 10), 'F9 v1.0  B0007', 'CCAFS LC-40', 'SpaceX CRS-2', 677, 'LEO (ISS)', 'NASA (CRS)', 'Success', 'No attempt')]",
                        "text/html": "<table>\n    <tr>\n        <th>DATE</th>\n        <th>time__utc_</th>\n        <th>booster_version</th>\n        <th>launch_site</th>\n        <th>payload</th>\n        <th>payload_mass__kg_</th>\n        <th>orbit</th>\n        <th>customer</th>\n        <th>mission_outcome</th>\n        <th>landing__outcome</th>\n    </tr>\n    <tr>\n        <td>2010-04-06</td>\n        <td>18:45:00</td>\n        <td>F9 v1.0  B0003</td>\n        <td>CCAFS LC-40</td>\n        <td>Dragon Spacecraft Qualification Unit</td>\n        <td>0</td>\n        <td>LEO</td>\n        <td>SpaceX</td>\n        <td>Success</td>\n        <td>Failure (parachute)</td>\n    </tr>\n    <tr>\n        <td>2010-08-12</td>\n        <td>15:43:00</td>\n        <td>F9 v1.0  B0004</td>\n        <td>CCAFS LC-40</td>\n        <td>Dragon demo flight C1, two CubeSats, barrel of Brouere cheese</td>\n        <td>0</td>\n        <td>LEO (ISS)</td>\n        <td>NASA (COTS) NRO</td>\n        <td>Success</td>\n        <td>Failure (parachute)</td>\n    </tr>\n    <tr>\n        <td>2012-05-22</td>\n        <td>07:44:00</td>\n        <td>F9 v1.0  B0005</td>\n        <td>CCAFS LC-40</td>\n        <td>Dragon demo flight C2</td>\n        <td>525</td>\n        <td>LEO (ISS)</td>\n        <td>NASA (COTS)</td>\n        <td>Success</td>\n        <td>No attempt</td>\n    </tr>\n    <tr>\n        <td>2012-08-10</td>\n        <td>00:35:00</td>\n        <td>F9 v1.0  B0006</td>\n        <td>CCAFS LC-40</td>\n        <td>SpaceX CRS-1</td>\n        <td>500</td>\n        <td>LEO (ISS)</td>\n        <td>NASA (CRS)</td>\n        <td>Success</td>\n        <td>No attempt</td>\n    </tr>\n    <tr>\n        <td>2013-01-03</td>\n        <td>15:10:00</td>\n        <td>F9 v1.0  B0007</td>\n        <td>CCAFS LC-40</td>\n        <td>SpaceX CRS-2</td>\n        <td>677</td>\n        <td>LEO (ISS)</td>\n        <td>NASA (CRS)</td>\n        <td>Success</td>\n        <td>No attempt</td>\n    </tr>\n</table>"
                    },
                    "metadata": {}
                }
            ]
        },
        {
            "metadata": {},
            "cell_type": "markdown",
            "source": "### Task 3\n\n##### Display the total payload mass carried by boosters launched by NASA (CRS)\n"
        },
        {
            "metadata": {},
            "cell_type": "code",
            "source": "%sql SELECT SUM (payload_mass__kg_) AS sum FROM SPACEXTBL;",
            "execution_count": 19,
            "outputs": [
                {
                    "output_type": "stream",
                    "text": " * ibm_db_sa://svp38427:***@125f9f61-9715-46f9-9399-c8177b21803b.c1ogj3sd0tgtu0lqde00.databases.appdomain.cloud:30426/bludb\nDone.\n",
                    "name": "stdout"
                },
                {
                    "output_type": "execute_result",
                    "execution_count": 19,
                    "data": {
                        "text/plain": "[(619967,)]",
                        "text/html": "<table>\n    <tr>\n        <th>SUM</th>\n    </tr>\n    <tr>\n        <td>619967</td>\n    </tr>\n</table>"
                    },
                    "metadata": {}
                }
            ]
        },
        {
            "metadata": {},
            "cell_type": "markdown",
            "source": "### Task 4\n\n##### Display average payload mass carried by booster version F9 v1.1\n"
        },
        {
            "metadata": {},
            "cell_type": "code",
            "source": "%sql SELECT AVG (payload_mass__kg_) AS avg FROM SPACEXTBL WHERE booster_version LIKE '%F9 v1.1%';",
            "execution_count": 20,
            "outputs": [
                {
                    "output_type": "stream",
                    "text": " * ibm_db_sa://svp38427:***@125f9f61-9715-46f9-9399-c8177b21803b.c1ogj3sd0tgtu0lqde00.databases.appdomain.cloud:30426/bludb\nDone.\n",
                    "name": "stdout"
                },
                {
                    "output_type": "execute_result",
                    "execution_count": 20,
                    "data": {
                        "text/plain": "[(2534,)]",
                        "text/html": "<table>\n    <tr>\n        <th>AVG</th>\n    </tr>\n    <tr>\n        <td>2534</td>\n    </tr>\n</table>"
                    },
                    "metadata": {}
                }
            ]
        },
        {
            "metadata": {},
            "cell_type": "markdown",
            "source": "### Task 5\n\n##### List the date when the first successful landing outcome in ground pad was acheived.\n\n*Hint:Use min function*\n"
        },
        {
            "metadata": {},
            "cell_type": "code",
            "source": "%sql SELECT MIN (DATE) AS date FROM SPACEXTBL WHERE landing__outcome LIKE '%ground pad%';",
            "execution_count": 91,
            "outputs": [
                {
                    "output_type": "stream",
                    "text": " * ibm_db_sa://svp38427:***@125f9f61-9715-46f9-9399-c8177b21803b.c1ogj3sd0tgtu0lqde00.databases.appdomain.cloud:30426/bludb\nDone.\n",
                    "name": "stdout"
                },
                {
                    "output_type": "execute_result",
                    "execution_count": 91,
                    "data": {
                        "text/plain": "[(datetime.date(2015, 2, 22),)]",
                        "text/html": "<table>\n    <tr>\n        <th>DATE</th>\n    </tr>\n    <tr>\n        <td>2015-02-22</td>\n    </tr>\n</table>"
                    },
                    "metadata": {}
                }
            ]
        },
        {
            "metadata": {},
            "cell_type": "markdown",
            "source": "### Task 6\n\n##### List the names of the boosters which have success in drone ship and have payload mass greater than 4000 but less than 6000\n"
        },
        {
            "metadata": {},
            "cell_type": "code",
            "source": "%sql SELECT * FROM SPACEXTBL WHERE mission_outcome LIKE '%Success%' AND (payload_mass__kg_ > 4000 AND payload_mass__kg_ < 6000)",
            "execution_count": 37,
            "outputs": [
                {
                    "output_type": "stream",
                    "text": " * ibm_db_sa://svp38427:***@125f9f61-9715-46f9-9399-c8177b21803b.c1ogj3sd0tgtu0lqde00.databases.appdomain.cloud:30426/bludb\nDone.\n",
                    "name": "stdout"
                },
                {
                    "output_type": "execute_result",
                    "execution_count": 37,
                    "data": {
                        "text/plain": "[(datetime.date(2014, 5, 8), datetime.time(8, 0), 'F9 v1.1', 'CCAFS LC-40', 'AsiaSat 8', 4535, 'GTO', 'AsiaSat', 'Success', 'No attempt'),\n (datetime.date(2014, 7, 9), datetime.time(5, 0), 'F9 v1.1 B1011', 'CCAFS LC-40', 'AsiaSat 6', 4428, 'GTO', 'AsiaSat', 'Success', 'No attempt'),\n (datetime.date(2015, 2, 3), datetime.time(3, 50), 'F9 v1.1 B1014', 'CCAFS LC-40', 'ABS-3A Eutelsat 115 West B', 4159, 'GTO', 'ABS Eutelsat', 'Success', 'No attempt'),\n (datetime.date(2015, 4, 27), datetime.time(23, 3), 'F9 v1.1 B1016', 'CCAFS LC-40', 'Turkmen 52 / MonacoSAT', 4707, 'GTO', 'Turkmenistan National Space Agency', 'Success', 'No attempt'),\n (datetime.date(2016, 4, 3), datetime.time(23, 35), 'F9 FT B1020', 'CCAFS LC-40', 'SES-9', 5271, 'GTO', 'SES', 'Success', 'Failure (drone ship)'),\n (datetime.date(2016, 6, 5), datetime.time(5, 21), 'F9 FT B1022', 'CCAFS LC-40', 'JCSAT-14', 4696, 'GTO', 'SKY Perfect JSAT Group', 'Success', 'Success (drone ship)'),\n (datetime.date(2016, 8, 14), datetime.time(5, 26), 'F9 FT B1026', 'CCAFS LC-40', 'JCSAT-16', 4600, 'GTO', 'SKY Perfect JSAT Group', 'Success', 'Success (drone ship)'),\n (datetime.date(2017, 3, 16), datetime.time(6, 0), 'F9 FT B1030', 'KSC LC-39A', 'EchoStar 23', 5600, 'GTO', 'EchoStar', 'Success', 'No attempt'),\n (datetime.date(2017, 3, 30), datetime.time(22, 27), 'F9 FT  B1021.2', 'KSC LC-39A', 'SES-10', 5300, 'GTO', 'SES', 'Success', 'Success (drone ship)'),\n (datetime.date(2017, 1, 5), datetime.time(11, 15), 'F9 FT B1032.1', 'KSC LC-39A', 'NROL-76', 5300, 'LEO', 'NRO', 'Success', 'Success (ground pad)'),\n (datetime.date(2017, 7, 9), datetime.time(14, 0), 'F9 B4 B1040.1', 'KSC LC-39A', 'Boeing X-37B OTV-5', 4990, 'LEO', 'U.S. Air Force', 'Success', 'Success (ground pad)'),\n (datetime.date(2017, 11, 10), datetime.time(22, 53), 'F9 FT  B1031.2', 'KSC LC-39A', 'SES-11 / EchoStar 105', 5200, 'GTO', 'SES EchoStar', 'Success', 'Success (drone ship)'),\n (datetime.date(2018, 8, 1), datetime.time(1, 0), 'F9 B4 B1043.1', 'CCAFS SLC-40', 'Zuma', 5000, 'LEO', 'Northrop Grumman', 'Success (payload status unclear)', 'Success (ground pad)'),\n (datetime.date(2018, 1, 31), datetime.time(21, 25), 'F9 FT  B1032.2', 'CCAFS SLC-40', 'GovSat-1 / SES-16', 4230, 'GTO', 'SES', 'Success', 'Controlled (ocean)'),\n (datetime.date(2018, 4, 6), datetime.time(4, 45), 'F9 B4  B1040.2', 'CCAFS SLC-40', 'SES-12', 5384, 'GTO', 'SES', 'Success', 'No attempt'),\n (datetime.date(2018, 7, 8), datetime.time(5, 18), 'F9 B5 B1046.2', 'CCAFS SLC-40', 'Merah Putih', 5800, 'GTO', 'Telkom Indonesia', 'Success', 'Success'),\n (datetime.date(2018, 11, 15), datetime.time(20, 46), 'F9 B5 B1047.2', 'KSC LC-39A', 'Es hail 2', 5300, 'GTO', 'Es hailSat', 'Success', 'Success'),\n (datetime.date(2018, 12, 23), datetime.time(13, 51), 'F9 B5B1054', 'CCAFS SLC-40', 'GPS III-01', 4400, 'MEO', 'USAF', 'Success', 'No attempt'),\n (datetime.date(2019, 2, 22), datetime.time(1, 45), 'F9 B5 B1048.3', 'CCAFS SLC-40', 'Nusantara Satu, Beresheet Moon lander, S5', 4850, 'GTO', 'PSN, SpaceIL / IAI', 'Success', 'Success'),\n (datetime.date(2019, 12, 6), datetime.time(14, 17), 'F9 B5 B1051.2', 'VAFB SLC-4E', 'RADARSAT Constellation, SpaceX CRS-18 ', 4200, 'SSO', 'Canadian Space Agency (CSA)', 'Success', 'Success'),\n (datetime.date(2020, 6, 30), datetime.time(20, 10, 46), 'F9 B5B1060.1', 'CCAFS SLC-40', 'GPS III-03, ANASIS-II', 4311, 'MEO', 'U.S. Space Force', 'Success', 'Success'),\n (datetime.date(2020, 7, 20), datetime.time(21, 30), 'F9 B5 B1058.2', 'CCAFS SLC-40', 'ANASIS-II, Starlink 9 v1.0', 5500, 'GTO', 'Republic of Korea Army, Spaceflight Industries (BlackSky)', 'Success', 'Success'),\n (datetime.date(2020, 5, 11), datetime.time(23, 24, 23), 'F9 B5B1062.1', 'CCAFS SLC-40', 'GPS III-04 , Crew-1', 4311, 'MEO', 'USSF', 'Success', 'Success')]",
                        "text/html": "<table>\n    <tr>\n        <th>DATE</th>\n        <th>time__utc_</th>\n        <th>booster_version</th>\n        <th>launch_site</th>\n        <th>payload</th>\n        <th>payload_mass__kg_</th>\n        <th>orbit</th>\n        <th>customer</th>\n        <th>mission_outcome</th>\n        <th>landing__outcome</th>\n    </tr>\n    <tr>\n        <td>2014-05-08</td>\n        <td>08:00:00</td>\n        <td>F9 v1.1</td>\n        <td>CCAFS LC-40</td>\n        <td>AsiaSat 8</td>\n        <td>4535</td>\n        <td>GTO</td>\n        <td>AsiaSat</td>\n        <td>Success</td>\n        <td>No attempt</td>\n    </tr>\n    <tr>\n        <td>2014-07-09</td>\n        <td>05:00:00</td>\n        <td>F9 v1.1 B1011</td>\n        <td>CCAFS LC-40</td>\n        <td>AsiaSat 6</td>\n        <td>4428</td>\n        <td>GTO</td>\n        <td>AsiaSat</td>\n        <td>Success</td>\n        <td>No attempt</td>\n    </tr>\n    <tr>\n        <td>2015-02-03</td>\n        <td>03:50:00</td>\n        <td>F9 v1.1 B1014</td>\n        <td>CCAFS LC-40</td>\n        <td>ABS-3A Eutelsat 115 West B</td>\n        <td>4159</td>\n        <td>GTO</td>\n        <td>ABS Eutelsat</td>\n        <td>Success</td>\n        <td>No attempt</td>\n    </tr>\n    <tr>\n        <td>2015-04-27</td>\n        <td>23:03:00</td>\n        <td>F9 v1.1 B1016</td>\n        <td>CCAFS LC-40</td>\n        <td>Turkmen 52 / MonacoSAT</td>\n        <td>4707</td>\n        <td>GTO</td>\n        <td>Turkmenistan National Space Agency</td>\n        <td>Success</td>\n        <td>No attempt</td>\n    </tr>\n    <tr>\n        <td>2016-04-03</td>\n        <td>23:35:00</td>\n        <td>F9 FT B1020</td>\n        <td>CCAFS LC-40</td>\n        <td>SES-9</td>\n        <td>5271</td>\n        <td>GTO</td>\n        <td>SES</td>\n        <td>Success</td>\n        <td>Failure (drone ship)</td>\n    </tr>\n    <tr>\n        <td>2016-06-05</td>\n        <td>05:21:00</td>\n        <td>F9 FT B1022</td>\n        <td>CCAFS LC-40</td>\n        <td>JCSAT-14</td>\n        <td>4696</td>\n        <td>GTO</td>\n        <td>SKY Perfect JSAT Group</td>\n        <td>Success</td>\n        <td>Success (drone ship)</td>\n    </tr>\n    <tr>\n        <td>2016-08-14</td>\n        <td>05:26:00</td>\n        <td>F9 FT B1026</td>\n        <td>CCAFS LC-40</td>\n        <td>JCSAT-16</td>\n        <td>4600</td>\n        <td>GTO</td>\n        <td>SKY Perfect JSAT Group</td>\n        <td>Success</td>\n        <td>Success (drone ship)</td>\n    </tr>\n    <tr>\n        <td>2017-03-16</td>\n        <td>06:00:00</td>\n        <td>F9 FT B1030</td>\n        <td>KSC LC-39A</td>\n        <td>EchoStar 23</td>\n        <td>5600</td>\n        <td>GTO</td>\n        <td>EchoStar</td>\n        <td>Success</td>\n        <td>No attempt</td>\n    </tr>\n    <tr>\n        <td>2017-03-30</td>\n        <td>22:27:00</td>\n        <td>F9 FT  B1021.2</td>\n        <td>KSC LC-39A</td>\n        <td>SES-10</td>\n        <td>5300</td>\n        <td>GTO</td>\n        <td>SES</td>\n        <td>Success</td>\n        <td>Success (drone ship)</td>\n    </tr>\n    <tr>\n        <td>2017-01-05</td>\n        <td>11:15:00</td>\n        <td>F9 FT B1032.1</td>\n        <td>KSC LC-39A</td>\n        <td>NROL-76</td>\n        <td>5300</td>\n        <td>LEO</td>\n        <td>NRO</td>\n        <td>Success</td>\n        <td>Success (ground pad)</td>\n    </tr>\n    <tr>\n        <td>2017-07-09</td>\n        <td>14:00:00</td>\n        <td>F9 B4 B1040.1</td>\n        <td>KSC LC-39A</td>\n        <td>Boeing X-37B OTV-5</td>\n        <td>4990</td>\n        <td>LEO</td>\n        <td>U.S. Air Force</td>\n        <td>Success</td>\n        <td>Success (ground pad)</td>\n    </tr>\n    <tr>\n        <td>2017-11-10</td>\n        <td>22:53:00</td>\n        <td>F9 FT  B1031.2</td>\n        <td>KSC LC-39A</td>\n        <td>SES-11 / EchoStar 105</td>\n        <td>5200</td>\n        <td>GTO</td>\n        <td>SES EchoStar</td>\n        <td>Success</td>\n        <td>Success (drone ship)</td>\n    </tr>\n    <tr>\n        <td>2018-08-01</td>\n        <td>01:00:00</td>\n        <td>F9 B4 B1043.1</td>\n        <td>CCAFS SLC-40</td>\n        <td>Zuma</td>\n        <td>5000</td>\n        <td>LEO</td>\n        <td>Northrop Grumman</td>\n        <td>Success (payload status unclear)</td>\n        <td>Success (ground pad)</td>\n    </tr>\n    <tr>\n        <td>2018-01-31</td>\n        <td>21:25:00</td>\n        <td>F9 FT  B1032.2</td>\n        <td>CCAFS SLC-40</td>\n        <td>GovSat-1 / SES-16</td>\n        <td>4230</td>\n        <td>GTO</td>\n        <td>SES</td>\n        <td>Success</td>\n        <td>Controlled (ocean)</td>\n    </tr>\n    <tr>\n        <td>2018-04-06</td>\n        <td>04:45:00</td>\n        <td>F9 B4  B1040.2</td>\n        <td>CCAFS SLC-40</td>\n        <td>SES-12</td>\n        <td>5384</td>\n        <td>GTO</td>\n        <td>SES</td>\n        <td>Success</td>\n        <td>No attempt</td>\n    </tr>\n    <tr>\n        <td>2018-07-08</td>\n        <td>05:18:00</td>\n        <td>F9 B5 B1046.2</td>\n        <td>CCAFS SLC-40</td>\n        <td>Merah Putih</td>\n        <td>5800</td>\n        <td>GTO</td>\n        <td>Telkom Indonesia</td>\n        <td>Success</td>\n        <td>Success</td>\n    </tr>\n    <tr>\n        <td>2018-11-15</td>\n        <td>20:46:00</td>\n        <td>F9 B5 B1047.2</td>\n        <td>KSC LC-39A</td>\n        <td>Es hail 2</td>\n        <td>5300</td>\n        <td>GTO</td>\n        <td>Es hailSat</td>\n        <td>Success</td>\n        <td>Success</td>\n    </tr>\n    <tr>\n        <td>2018-12-23</td>\n        <td>13:51:00</td>\n        <td>F9 B5B1054</td>\n        <td>CCAFS SLC-40</td>\n        <td>GPS III-01</td>\n        <td>4400</td>\n        <td>MEO</td>\n        <td>USAF</td>\n        <td>Success</td>\n        <td>No attempt</td>\n    </tr>\n    <tr>\n        <td>2019-02-22</td>\n        <td>01:45:00</td>\n        <td>F9 B5 B1048.3</td>\n        <td>CCAFS SLC-40</td>\n        <td>Nusantara Satu, Beresheet Moon lander, S5</td>\n        <td>4850</td>\n        <td>GTO</td>\n        <td>PSN, SpaceIL / IAI</td>\n        <td>Success</td>\n        <td>Success</td>\n    </tr>\n    <tr>\n        <td>2019-12-06</td>\n        <td>14:17:00</td>\n        <td>F9 B5 B1051.2</td>\n        <td>VAFB SLC-4E</td>\n        <td>RADARSAT Constellation, SpaceX CRS-18 </td>\n        <td>4200</td>\n        <td>SSO</td>\n        <td>Canadian Space Agency (CSA)</td>\n        <td>Success</td>\n        <td>Success</td>\n    </tr>\n    <tr>\n        <td>2020-06-30</td>\n        <td>20:10:46</td>\n        <td>F9 B5B1060.1</td>\n        <td>CCAFS SLC-40</td>\n        <td>GPS III-03, ANASIS-II</td>\n        <td>4311</td>\n        <td>MEO</td>\n        <td>U.S. Space Force</td>\n        <td>Success</td>\n        <td>Success</td>\n    </tr>\n    <tr>\n        <td>2020-07-20</td>\n        <td>21:30:00</td>\n        <td>F9 B5 B1058.2</td>\n        <td>CCAFS SLC-40</td>\n        <td>ANASIS-II, Starlink 9 v1.0</td>\n        <td>5500</td>\n        <td>GTO</td>\n        <td>Republic of Korea Army, Spaceflight Industries (BlackSky)</td>\n        <td>Success</td>\n        <td>Success</td>\n    </tr>\n    <tr>\n        <td>2020-05-11</td>\n        <td>23:24:23</td>\n        <td>F9 B5B1062.1</td>\n        <td>CCAFS SLC-40</td>\n        <td>GPS III-04 , Crew-1</td>\n        <td>4311</td>\n        <td>MEO</td>\n        <td>USSF</td>\n        <td>Success</td>\n        <td>Success</td>\n    </tr>\n</table>"
                    },
                    "metadata": {}
                }
            ]
        },
        {
            "metadata": {},
            "cell_type": "markdown",
            "source": "### Task 7\n\n##### List the total number of successful and failure mission outcomes\n"
        },
        {
            "metadata": {},
            "cell_type": "code",
            "source": "%sql SELECT mission_outcome, COUNT(mission_outcome) AS total FROM SPACEXTBL GROUP BY mission_outcome;\n",
            "execution_count": 58,
            "outputs": [
                {
                    "output_type": "stream",
                    "text": " * ibm_db_sa://svp38427:***@125f9f61-9715-46f9-9399-c8177b21803b.c1ogj3sd0tgtu0lqde00.databases.appdomain.cloud:30426/bludb\nDone.\n",
                    "name": "stdout"
                },
                {
                    "output_type": "execute_result",
                    "execution_count": 58,
                    "data": {
                        "text/plain": "[('Failure (in flight)', 1),\n ('Success', 99),\n ('Success (payload status unclear)', 1)]",
                        "text/html": "<table>\n    <tr>\n        <th>mission_outcome</th>\n        <th>total</th>\n    </tr>\n    <tr>\n        <td>Failure (in flight)</td>\n        <td>1</td>\n    </tr>\n    <tr>\n        <td>Success</td>\n        <td>99</td>\n    </tr>\n    <tr>\n        <td>Success (payload status unclear)</td>\n        <td>1</td>\n    </tr>\n</table>"
                    },
                    "metadata": {}
                }
            ]
        },
        {
            "metadata": {},
            "cell_type": "markdown",
            "source": "### Task 8\n\n##### List the   names of the booster_versions which have carried the maximum payload mass. Use a subquery\n"
        },
        {
            "metadata": {},
            "cell_type": "code",
            "source": "%sql SELECT  BOOSTER_VERSION, PAYLOAD_MASS__KG_ FROM SPACEXTBL WHERE PAYLOAD_MASS__KG_ = (SELECT MAX(PAYLOAD_MASS__KG_) FROM SPACEXTBL);",
            "execution_count": 84,
            "outputs": [
                {
                    "output_type": "stream",
                    "text": " * ibm_db_sa://svp38427:***@125f9f61-9715-46f9-9399-c8177b21803b.c1ogj3sd0tgtu0lqde00.databases.appdomain.cloud:30426/bludb\nDone.\n",
                    "name": "stdout"
                },
                {
                    "output_type": "execute_result",
                    "execution_count": 84,
                    "data": {
                        "text/plain": "[('F9 B5 B1048.4', 15600),\n ('F9 B5 B1049.4', 15600),\n ('F9 B5 B1051.3', 15600),\n ('F9 B5 B1056.4', 15600),\n ('F9 B5 B1048.5', 15600),\n ('F9 B5 B1051.4', 15600),\n ('F9 B5 B1049.5', 15600),\n ('F9 B5 B1060.2', 15600),\n ('F9 B5 B1058.3', 15600),\n ('F9 B5 B1051.6', 15600),\n ('F9 B5 B1060.3', 15600),\n ('F9 B5 B1049.7', 15600)]",
                        "text/html": "<table>\n    <tr>\n        <th>booster_version</th>\n        <th>payload_mass__kg_</th>\n    </tr>\n    <tr>\n        <td>F9 B5 B1048.4</td>\n        <td>15600</td>\n    </tr>\n    <tr>\n        <td>F9 B5 B1049.4</td>\n        <td>15600</td>\n    </tr>\n    <tr>\n        <td>F9 B5 B1051.3</td>\n        <td>15600</td>\n    </tr>\n    <tr>\n        <td>F9 B5 B1056.4</td>\n        <td>15600</td>\n    </tr>\n    <tr>\n        <td>F9 B5 B1048.5</td>\n        <td>15600</td>\n    </tr>\n    <tr>\n        <td>F9 B5 B1051.4</td>\n        <td>15600</td>\n    </tr>\n    <tr>\n        <td>F9 B5 B1049.5</td>\n        <td>15600</td>\n    </tr>\n    <tr>\n        <td>F9 B5 B1060.2</td>\n        <td>15600</td>\n    </tr>\n    <tr>\n        <td>F9 B5 B1058.3</td>\n        <td>15600</td>\n    </tr>\n    <tr>\n        <td>F9 B5 B1051.6</td>\n        <td>15600</td>\n    </tr>\n    <tr>\n        <td>F9 B5 B1060.3</td>\n        <td>15600</td>\n    </tr>\n    <tr>\n        <td>F9 B5 B1049.7</td>\n        <td>15600</td>\n    </tr>\n</table>"
                    },
                    "metadata": {}
                }
            ]
        },
        {
            "metadata": {},
            "cell_type": "markdown",
            "source": "### Task 9\n\n##### List the failed landing_outcomes in drone ship, their booster versions, and launch site names for in year 2015\n"
        },
        {
            "metadata": {},
            "cell_type": "code",
            "source": "%sql SELECT date, landing__outcome, booster_version, launch_site FROM SPACEXTBL WHERE mission_outcome LIKE '%Failure%'",
            "execution_count": 93,
            "outputs": [
                {
                    "output_type": "stream",
                    "text": " * ibm_db_sa://svp38427:***@125f9f61-9715-46f9-9399-c8177b21803b.c1ogj3sd0tgtu0lqde00.databases.appdomain.cloud:30426/bludb\nDone.\n",
                    "name": "stdout"
                },
                {
                    "output_type": "execute_result",
                    "execution_count": 93,
                    "data": {
                        "text/plain": "[(datetime.date(2015, 6, 28), 'Precluded (drone ship)', 'F9 v1.1 B1018', 'CCAFS LC-40')]",
                        "text/html": "<table>\n    <tr>\n        <th>DATE</th>\n        <th>landing__outcome</th>\n        <th>booster_version</th>\n        <th>launch_site</th>\n    </tr>\n    <tr>\n        <td>2015-06-28</td>\n        <td>Precluded (drone ship)</td>\n        <td>F9 v1.1 B1018</td>\n        <td>CCAFS LC-40</td>\n    </tr>\n</table>"
                    },
                    "metadata": {}
                }
            ]
        },
        {
            "metadata": {},
            "cell_type": "markdown",
            "source": "### Task 10\n\n##### Rank the count of landing outcomes (such as Failure (drone ship) or Success (ground pad)) between the date 2010-06-04 and 2017-03-20, in descending order\n"
        },
        {
            "metadata": {},
            "cell_type": "code",
            "source": "%sql SELECT DATE, landing__outcome AS date FROM SPACEXTBL WHERE DATE > '2010-06-04' AND DATE < '2017-03-20' ORDER BY DATE DESC;",
            "execution_count": 108,
            "outputs": [
                {
                    "output_type": "stream",
                    "text": " * ibm_db_sa://svp38427:***@125f9f61-9715-46f9-9399-c8177b21803b.c1ogj3sd0tgtu0lqde00.databases.appdomain.cloud:30426/bludb\nDone.\n",
                    "name": "stdout"
                },
                {
                    "output_type": "execute_result",
                    "execution_count": 108,
                    "data": {
                        "text/plain": "[(datetime.date(2017, 3, 16), 'No attempt'),\n (datetime.date(2017, 3, 6), 'Success (ground pad)'),\n (datetime.date(2017, 2, 19), 'Success (ground pad)'),\n (datetime.date(2017, 1, 14), 'Success (drone ship)'),\n (datetime.date(2017, 1, 5), 'Success (ground pad)'),\n (datetime.date(2016, 8, 14), 'Success (drone ship)'),\n (datetime.date(2016, 8, 4), 'Success (drone ship)'),\n (datetime.date(2016, 7, 18), 'Success (ground pad)'),\n (datetime.date(2016, 6, 15), 'Failure (drone ship)'),\n (datetime.date(2016, 6, 5), 'Success (drone ship)'),\n (datetime.date(2016, 5, 27), 'Success (drone ship)'),\n (datetime.date(2016, 4, 3), 'Failure (drone ship)'),\n (datetime.date(2016, 1, 17), 'Failure (drone ship)'),\n (datetime.date(2015, 11, 2), 'Controlled (ocean)'),\n (datetime.date(2015, 10, 1), 'Failure (drone ship)'),\n (datetime.date(2015, 6, 28), 'Precluded (drone ship)'),\n (datetime.date(2015, 4, 27), 'No attempt'),\n (datetime.date(2015, 4, 14), 'Failure (drone ship)'),\n (datetime.date(2015, 2, 22), 'Success (ground pad)'),\n (datetime.date(2015, 2, 3), 'No attempt'),\n (datetime.date(2014, 9, 21), 'Uncontrolled (ocean)'),\n (datetime.date(2014, 7, 14), 'Controlled (ocean)'),\n (datetime.date(2014, 7, 9), 'No attempt'),\n (datetime.date(2014, 6, 1), 'No attempt'),\n (datetime.date(2014, 5, 8), 'No attempt'),\n (datetime.date(2014, 4, 18), 'Controlled (ocean)'),\n (datetime.date(2013, 9, 29), 'Uncontrolled (ocean)'),\n (datetime.date(2013, 3, 12), 'No attempt'),\n (datetime.date(2013, 1, 3), 'No attempt'),\n (datetime.date(2012, 8, 10), 'No attempt'),\n (datetime.date(2012, 5, 22), 'No attempt'),\n (datetime.date(2010, 8, 12), 'Failure (parachute)')]",
                        "text/html": "<table>\n    <tr>\n        <th>DATE</th>\n        <th>DATE_1</th>\n    </tr>\n    <tr>\n        <td>2017-03-16</td>\n        <td>No attempt</td>\n    </tr>\n    <tr>\n        <td>2017-03-06</td>\n        <td>Success (ground pad)</td>\n    </tr>\n    <tr>\n        <td>2017-02-19</td>\n        <td>Success (ground pad)</td>\n    </tr>\n    <tr>\n        <td>2017-01-14</td>\n        <td>Success (drone ship)</td>\n    </tr>\n    <tr>\n        <td>2017-01-05</td>\n        <td>Success (ground pad)</td>\n    </tr>\n    <tr>\n        <td>2016-08-14</td>\n        <td>Success (drone ship)</td>\n    </tr>\n    <tr>\n        <td>2016-08-04</td>\n        <td>Success (drone ship)</td>\n    </tr>\n    <tr>\n        <td>2016-07-18</td>\n        <td>Success (ground pad)</td>\n    </tr>\n    <tr>\n        <td>2016-06-15</td>\n        <td>Failure (drone ship)</td>\n    </tr>\n    <tr>\n        <td>2016-06-05</td>\n        <td>Success (drone ship)</td>\n    </tr>\n    <tr>\n        <td>2016-05-27</td>\n        <td>Success (drone ship)</td>\n    </tr>\n    <tr>\n        <td>2016-04-03</td>\n        <td>Failure (drone ship)</td>\n    </tr>\n    <tr>\n        <td>2016-01-17</td>\n        <td>Failure (drone ship)</td>\n    </tr>\n    <tr>\n        <td>2015-11-02</td>\n        <td>Controlled (ocean)</td>\n    </tr>\n    <tr>\n        <td>2015-10-01</td>\n        <td>Failure (drone ship)</td>\n    </tr>\n    <tr>\n        <td>2015-06-28</td>\n        <td>Precluded (drone ship)</td>\n    </tr>\n    <tr>\n        <td>2015-04-27</td>\n        <td>No attempt</td>\n    </tr>\n    <tr>\n        <td>2015-04-14</td>\n        <td>Failure (drone ship)</td>\n    </tr>\n    <tr>\n        <td>2015-02-22</td>\n        <td>Success (ground pad)</td>\n    </tr>\n    <tr>\n        <td>2015-02-03</td>\n        <td>No attempt</td>\n    </tr>\n    <tr>\n        <td>2014-09-21</td>\n        <td>Uncontrolled (ocean)</td>\n    </tr>\n    <tr>\n        <td>2014-07-14</td>\n        <td>Controlled (ocean)</td>\n    </tr>\n    <tr>\n        <td>2014-07-09</td>\n        <td>No attempt</td>\n    </tr>\n    <tr>\n        <td>2014-06-01</td>\n        <td>No attempt</td>\n    </tr>\n    <tr>\n        <td>2014-05-08</td>\n        <td>No attempt</td>\n    </tr>\n    <tr>\n        <td>2014-04-18</td>\n        <td>Controlled (ocean)</td>\n    </tr>\n    <tr>\n        <td>2013-09-29</td>\n        <td>Uncontrolled (ocean)</td>\n    </tr>\n    <tr>\n        <td>2013-03-12</td>\n        <td>No attempt</td>\n    </tr>\n    <tr>\n        <td>2013-01-03</td>\n        <td>No attempt</td>\n    </tr>\n    <tr>\n        <td>2012-08-10</td>\n        <td>No attempt</td>\n    </tr>\n    <tr>\n        <td>2012-05-22</td>\n        <td>No attempt</td>\n    </tr>\n    <tr>\n        <td>2010-08-12</td>\n        <td>Failure (parachute)</td>\n    </tr>\n</table>"
                    },
                    "metadata": {}
                }
            ]
        },
        {
            "metadata": {},
            "cell_type": "markdown",
            "source": "### Reference Links\n\n*   <a href =\"https://cf-courses-data.s3.us.cloud-object-storage.appdomain.cloud/IBMDeveloperSkillsNetwork-DB0201EN-SkillsNetwork/labs/Labs_Coursera_V5/labs/Lab%20-%20String%20Patterns%20-%20Sorting%20-%20Grouping/instructional-labs.md.html?utm_medium=Exinfluencer&utm_source=Exinfluencer&utm_content=000026UJ&utm_term=10006555&utm_id=NA-SkillsNetwork-Channel-SkillsNetworkCoursesIBMDS0321ENSkillsNetwork26802033-2021-01-01&origin=www.coursera.org\">Hands-on Lab : String Patterns, Sorting and Grouping</a>\n\n*   <a  href=\"https://cf-courses-data.s3.us.cloud-object-storage.appdomain.cloud/IBMDeveloperSkillsNetwork-DB0201EN-SkillsNetwork/labs/Labs_Coursera_V5/labs/Lab%20-%20Built-in%20functions%20/Hands-on_Lab__Built-in_Functions.md.html?utm_medium=Exinfluencer&utm_source=Exinfluencer&utm_content=000026UJ&utm_term=10006555&utm_id=NA-SkillsNetwork-Channel-SkillsNetworkCoursesIBMDS0321ENSkillsNetwork26802033-2021-01-01&origin=www.coursera.org\">Hands-on Lab: Built-in functions</a>\n\n*   <a  href=\"https://cf-courses-data.s3.us.cloud-object-storage.appdomain.cloud/IBMDeveloperSkillsNetwork-DB0201EN-SkillsNetwork/labs/Labs_Coursera_V5/labs/Lab%20-%20Sub-queries%20and%20Nested%20SELECTs%20/instructional-labs.md.html?utm_medium=Exinfluencer&utm_source=Exinfluencer&utm_content=000026UJ&utm_term=10006555&utm_id=NA-SkillsNetwork-Channel-SkillsNetworkCoursesIBMDS0321ENSkillsNetwork26802033-2021-01-01&origin=www.coursera.org\">Hands-on Lab : Sub-queries and Nested SELECT Statements</a>\n\n*   <a href=\"https://cf-courses-data.s3.us.cloud-object-storage.appdomain.cloud/IBMDeveloperSkillsNetwork-DB0201EN-SkillsNetwork/labs/Module%205/DB0201EN-Week3-1-3-SQLmagic.ipynb?utm_medium=Exinfluencer&utm_source=Exinfluencer&utm_content=000026UJ&utm_term=10006555&utm_id=NA-SkillsNetwork-Channel-SkillsNetworkCoursesIBMDS0321ENSkillsNetwork26802033-2021-01-01\">Hands-on Tutorial: Accessing Databases with SQL magic</a>\n\n*   <a href= \"https://cf-courses-data.s3.us.cloud-object-storage.appdomain.cloud/IBMDeveloperSkillsNetwork-DB0201EN-SkillsNetwork/labs/Module%205/DB0201EN-Week3-1-4-Analyzing.ipynb?utm_medium=Exinfluencer&utm_source=Exinfluencer&utm_content=000026UJ&utm_term=10006555&utm_id=NA-SkillsNetwork-Channel-SkillsNetworkCoursesIBMDS0321ENSkillsNetwork26802033-2021-01-01\">Hands-on Lab: Analyzing a real World Data Set</a>\n"
        },
        {
            "metadata": {},
            "cell_type": "markdown",
            "source": "## Author(s)\n\n<h4> Lakshmi Holla </h4>\n"
        },
        {
            "metadata": {},
            "cell_type": "markdown",
            "source": "## Other Contributors\n\n<h4> Rav Ahuja </h4>\n"
        },
        {
            "metadata": {},
            "cell_type": "markdown",
            "source": "## Change log\n\n| Date       | Version | Changed by    | Change Description        |\n| ---------- | ------- | ------------- | ------------------------- |\n| 2021-10-12 | 0.4     | Lakshmi Holla | Changed markdown          |\n| 2021-08-24 | 0.3     | Lakshmi Holla | Added library update      |\n| 2021-07-09 | 0.2     | Lakshmi Holla | Changes made in magic sql |\n| 2021-05-20 | 0.1     | Lakshmi Holla | Created Initial Version   |\n"
        },
        {
            "metadata": {},
            "cell_type": "markdown",
            "source": "## <h3 align=\"center\"> \u00a9 IBM Corporation 2021. All rights reserved. <h3/>\n"
        }
    ],
    "metadata": {
        "kernelspec": {
            "name": "python3",
            "display_name": "Python 3.8",
            "language": "python"
        },
        "language_info": {
            "name": "python",
            "version": "3.8.12",
            "mimetype": "text/x-python",
            "codemirror_mode": {
                "name": "ipython",
                "version": 3
            },
            "pygments_lexer": "ipython3",
            "nbconvert_exporter": "python",
            "file_extension": ".py"
        }
    },
    "nbformat": 4,
    "nbformat_minor": 4
}